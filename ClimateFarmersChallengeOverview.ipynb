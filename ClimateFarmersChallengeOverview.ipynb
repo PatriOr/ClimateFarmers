{
 "cells": [
  {
   "cell_type": "markdown",
   "id": "2843e54f-2903-4f20-b99f-0e48006ff8ca",
   "metadata": {},
   "source": [
    "# Challenge - Environmental Modeller & Researcher (all gender)\n",
    "## Candidate: Patricia Ortega \n",
    "\n",
    "## Step 1 Region Selection\n",
    "The selected study region is located in France and is defined by coordinates ranging from 43.5°N to 47.5°N latitude and 0°E to 6°E longitude. This region encompasses several major cities, including Angers, Dijon, Pau, and Marseille, which are situated near the vertices of the rectangle that defines this chosen area. It spans multiple administrative regions, namely Nouvelle-Aquitaine, Occitanie, Provence-Alpes-Côte d'Azur, Auvergne-Rhône-Alpes, Bourgogne-Franche-Comté, and Centre-Val de Loire.\n",
    "\n",
    "Regarding agriculture, the region boasts a diverse array of practices that mirror its geographical diversity. These practices encompass field cropping, cattle farming, mixed farming, vineyards, sheep and goat husbandry, as well as orchards.\n"
   ]
  },
  {
   "cell_type": "markdown",
   "id": "8573199d-e7ea-47f2-9c1c-e23fa35877f9",
   "metadata": {},
   "source": [
    "## Step 2  Data Acquisition\n",
    "As indicated I downloaded the data from the sources you provided.  \n",
    "- The Monthly Climate variables covering the years 2000 to 2022 are saved in : data.nc\n",
    "    - Total evapotration,\n",
    "    - soil temperature level 1 (0-7 cm below the surface),\n",
    "    - and total precipitation. \n",
    "- Land cover classification maps for the year 2020. They are saved in: ClimateFarmers/Data_adquisistion/C3S-LC-L4-LCCS-Map-300m-P1Y-2020-v2.1.1.nc \n",
    "- Soil organic carbon (SOC) stock data. They are saved in: ClimateFarmers/Data_adquisistion/SOC43-0.tif, SOC43-2.tif, SOC43-4.tif, SOC47-0.tif, SOC47-2.tif, SOC47-4.tif \n"
   ]
  },
  {
   "cell_type": "markdown",
   "id": "e8e31024-6856-4c49-893f-8747dbd64ded",
   "metadata": {},
   "source": [
    "## Step 3 Data Integration\n",
    "To reproject the different rasters to match the one with lowest resolution I used the qgis sothware. Where I:\n",
    "\n",
    "\n",
    "1. Loaded my 3 Raster Layers (the climate variables, land cover, SOC ):\n",
    "\n",
    "2. Reprojection. I ensured that all my raster layers were in the same projection (EPSG:4326 - WGS 84).\n",
    "\n",
    "3. Resampling. Each raster had a different resolution. The climate variables had the lowest resolution. I resampled the raster layers of land cover and SOC to match the resolution climate varibles raster layer. In order to keep a coehirent label of pixels in the land cover layer as \"resampling method\" I used \"mode\". I resampled all the raster layers in the rectangle defined by coordinates ranging from 43.5°N to 47.5°N latitude and 0°E to 6°E longitude\n",
    "\n",
    "4. Transcription. I saved the raster layers in .tif files (at ClimateFarmers/Analysis/data).\n",
    "   1. Climate variables:\n",
    "        1. precipitation.tif\n",
    "        2. evapotranspiration.tif\n",
    "        3. soil_temp_l1.tif\n",
    "   2. SOC:\n",
    "        1. soc_data.tif\n",
    "   3. Land cover classification:\n",
    "         1. reclassified_land_cover.tif                      \n",
    "           "
   ]
  },
  {
   "cell_type": "markdown",
   "id": "dbc01fbe-9b96-45c9-90c7-2510c01dc61f",
   "metadata": {},
   "source": [
    "## Step 4 Analysis and Visualization"
   ]
  },
  {
   "cell_type": "markdown",
   "id": "c7449526-0a57-4585-8676-e0ef13e3d4b6",
   "metadata": {},
   "source": [
    "In this step I decided to visualize the:\n",
    "1. Analysis of climate variables \n",
    "   1. Maps of the monthly average over the 23 years by climatic variable.\n",
    "   2. Map of the total average across all the months in the 23 years for each climate variable.\n",
    "2. Time series of climate and soil variables for 4 different land cover classes.\n",
    "\n",
    "The notebooks containg this analysis are:\n",
    "1. ClimateFarmers/Analysis/Analysis_climatological_variables.ipynb\n",
    "2. ClimateFarmers/Analysis/LandCoverClass38-4.ipynb\n",
    "3. ClimateFarmers/Analysis/timeseries_precipitation.ipynb\n"
   ]
  },
  {
   "cell_type": "markdown",
   "id": "970091eb-f023-4370-88bc-e19989844ca8",
   "metadata": {},
   "source": [
    "## Step 5 Sampling Design"
   ]
  },
  {
   "cell_type": "markdown",
   "id": "be8d2a5e-c8fb-4ca1-83be-f5a6e12a5bdc",
   "metadata": {},
   "source": [
    "This step was complicated, probably because :\n",
    "two approaches were considered. Unfortunatelly for the conditions considered (region of study, resolution, cover land class) I obtained more samples needed than the total samples in the region.\n",
    "\n",
    "The notebook containg the approaches is: ClimateFarmers/Analysis/Samples.ipynb\n",
    "\n",
    "    \n"
   ]
  },
  {
   "cell_type": "code",
   "execution_count": null,
   "id": "fff319fc-5ff0-4ff2-8018-48ec5e11022a",
   "metadata": {},
   "outputs": [],
   "source": []
  }
 ],
 "metadata": {
  "kernelspec": {
   "display_name": "Python 3 (ipykernel)",
   "language": "python",
   "name": "python3"
  },
  "language_info": {
   "codemirror_mode": {
    "name": "ipython",
    "version": 3
   },
   "file_extension": ".py",
   "mimetype": "text/x-python",
   "name": "python",
   "nbconvert_exporter": "python",
   "pygments_lexer": "ipython3",
   "version": "3.11.5"
  }
 },
 "nbformat": 4,
 "nbformat_minor": 5
}
