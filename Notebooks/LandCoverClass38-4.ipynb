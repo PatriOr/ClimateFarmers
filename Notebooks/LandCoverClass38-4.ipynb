{
 "cells": [
  {
   "cell_type": "markdown",
   "id": "049dcc0a-cfb2-47d2-836a-a9bc820b899b",
   "metadata": {},
   "source": [
    "## Transforming cover 18 land subclasses in 4 classes"
   ]
  },
  {
   "cell_type": "code",
   "execution_count": 15,
   "id": "01583060-9535-49ad-acde-99deb68975e3",
   "metadata": {},
   "outputs": [],
   "source": [
    "import rasterio\n",
    "import numpy as np\n",
    "\n",
    "# Original land cover raster\n",
    "with rasterio.open('data/land_data.tif') as src:\n",
    "    # Read the raster data as a numpy array\n",
    "    data = src.read(1)\n",
    "\n",
    "    # Function to reclassify the land cover classes\n",
    "    def reclassify_land_cover(class_value):\n",
    "        if class_value == 0:  # Other\n",
    "            return 1\n",
    "        elif class_value == 210:  # Other\n",
    "            return 1\n",
    "        elif class_value == 60:  # tree_broadleaved_deciduous_closed_to_open to Forest\n",
    "            return 2\n",
    "        elif class_value == 70:  # tree_needleleaved_evergreen_closed_to_open  to Forest\n",
    "            return 2\n",
    "        elif class_value == 90:  # tree_mixed to Forest\n",
    "            return 2\n",
    "        elif class_value == 100:  # mosaic_tree_and_shrub to Forest\n",
    "            return 2\n",
    "        elif class_value == 190:  # urban to urban\n",
    "            return 4\n",
    "        else:\n",
    "            return 3  # All other classes are grouped as Agriculture\n",
    "\n",
    "    # Reclassify the land cover data using the function\n",
    "    reclassified_data = np.vectorize(reclassify_land_cover)(data)\n",
    "\n",
    "    # Output GeoTIFF file\n",
    "    output_path = 'output/reclassified_land_cover.tif'\n",
    "\n",
    "    # Copy the metadata from the original raster\n",
    "    profile = src.profile\n",
    "\n",
    "    # Update the data type to uint8 and the number of bands to 1\n",
    "    profile.update(dtype=rasterio.uint8, count=1)\n",
    "\n",
    "    # Create the output GeoTIFF file\n",
    "    with rasterio.open(output_path, 'w', **profile) as dst:\n",
    "        dst.write(reclassified_data, 1)\n"
   ]
  },
  {
   "cell_type": "code",
   "execution_count": null,
   "id": "19dd39af-1eb6-4202-866c-afb62ab8d5f4",
   "metadata": {},
   "outputs": [],
   "source": []
  }
 ],
 "metadata": {
  "kernelspec": {
   "display_name": "Python 3 (ipykernel)",
   "language": "python",
   "name": "python3"
  },
  "language_info": {
   "codemirror_mode": {
    "name": "ipython",
    "version": 3
   },
   "file_extension": ".py",
   "mimetype": "text/x-python",
   "name": "python",
   "nbconvert_exporter": "python",
   "pygments_lexer": "ipython3",
   "version": "3.11.5"
  }
 },
 "nbformat": 4,
 "nbformat_minor": 5
}
