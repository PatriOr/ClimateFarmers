{
 "cells": [
  {
   "cell_type": "markdown",
   "id": "326da825-5a8d-4fae-bc46-5b1a925fe8d1",
   "metadata": {
    "jp-MarkdownHeadingCollapsed": true
   },
   "source": [
    "## Sampling\n",
    "This is step is complex. For this section I create two approaches that converge. One is to compute the sample size in the conventional way using the conventional formula  for estimating sample size for a mean is:\n",
    "\n",
    "n=(Z⋅σ)^2/E^2\n",
    "\n",
    "Where:\n",
    "\n",
    "    n = Required sample size.\n",
    "    Z = Z-score corresponding to the desired confidence level (e.g., 1.96 for a 95% confidence level).\n",
    "    σ = Estimated population standard deviation (variability).\n",
    "    E = Margin of error (expressed as a decimal fraction).\n",
    "\n",
    "The second approach is to propose a random spread of samples in the region that corresponds to agriculture (in the region there are 1618 pixels that correspond to agriculture) and evaluate the standard deviation we would get compared with the soc previously measured. "
   ]
  },
  {
   "cell_type": "markdown",
   "id": "0ee2e4d7-a350-4cd1-bf04-725287deb7ff",
   "metadata": {},
   "source": [
    "## First try"
   ]
  },
  {
   "cell_type": "code",
   "execution_count": 93,
   "id": "a4a20d66-f99c-404b-899c-2162d4a96ecf",
   "metadata": {},
   "outputs": [
    {
     "name": "stdout",
     "output_type": "stream",
     "text": [
      "Required Sample Size: 74958\n"
     ]
    }
   ],
   "source": [
    "import numpy as np\n",
    "import scipy.stats as stats\n",
    "\n",
    "# Load SOC and land cover data\n",
    "with rasterio.open('data/soc_data.tif') as soc_ds:\n",
    "    soc_data = soc_ds.read(1)\n",
    "with rasterio.open('data/reclassified_land_cover.tif') as lc_ds:\n",
    "    land_cover_data = lc_ds.read(1)\n",
    "\n",
    "# Define the desired confidence level and margin of error\n",
    "confidence_level = 0.95  # 95% confidence level\n",
    "margin_of_error = 0.10  # 10% of the mean value\n",
    "\n",
    "# Extract SOC values for the agricultural region (where land_cover_data == 3)\n",
    "agricultural_soc_values = soc_data[land_cover_data == 3]\n",
    "\n",
    "# Calculate the mean and standard deviation of SOC values in the agricultural region\n",
    "mean_soc = np.mean(agricultural_soc_values)\n",
    "std_deviation_soc = np.std(agricultural_soc_values)\n",
    "\n",
    "# Calculate the critical value for the desired confidence level\n",
    "z_critical = stats.norm.ppf(1 - (1 - confidence_level) / 2)\n",
    "\n",
    "# Calculate the required sample size\n",
    "sample_size = ((z_critical**2) * (std_deviation_soc**2)) / (margin_of_error**2)\n",
    "\n",
    "# Round up to the nearest integer as sample size must be a whole number\n",
    "sample_size = np.ceil(sample_size)\n",
    "\n",
    "print(f\"Required Sample Size: {int(sample_size)}\")"
   ]
  },
  {
   "cell_type": "markdown",
   "id": "bd013653-0cdf-4906-943a-ccb3815c4522",
   "metadata": {},
   "source": [
    "The computed Sample Size is even bigger than the region of study "
   ]
  },
  {
   "cell_type": "code",
   "execution_count": 94,
   "id": "6d246c99-5498-4492-9d4a-a82d76dfa860",
   "metadata": {
    "scrolled": true
   },
   "outputs": [
    {
     "data": {
      "image/png": "[encoded data removed]",
      "text/plain": [
       "<Figure size 800x600 with 1 Axes>"
      ]
     },
     "metadata": {},
     "output_type": "display_data"
    }
   ],
   "source": [
    "#Just to check if is a good assumtion a Gaussian distribution. \n",
    "import rasterio\n",
    "import numpy as np\n",
    "import matplotlib.pyplot as plt\n",
    "\n",
    "# Load SOC and land cover data\n",
    "with rasterio.open('data/soc_data.tif') as soc_ds:\n",
    "    soc_data = soc_ds.read(1)\n",
    "with rasterio.open('data/reclassified_land_cover.tif') as lc_ds:\n",
    "    land_cover_data = lc_ds.read(1)\n",
    "\n",
    "# Get all SOC values for agricultural pixels\n",
    "agricultural_pixels = soc_data[land_cover_data == 3]\n",
    "soc_values = agricultural_pixels[~np.isnan(agricultural_pixels)]\n",
    "\n",
    "# Create a histogram of SOC values\n",
    "plt.figure(figsize=(8, 6))\n",
    "plt.hist(soc_values, bins=50, alpha=0.7, color='blue', edgecolor='black')\n",
    "plt.title('Distribution of SOC Values in Agriculture Class')\n",
    "plt.xlabel('SOC Values')\n",
    "plt.ylabel('Frequency')\n",
    "plt.grid(True)\n",
    "plt.show()\n"
   ]
  },
  {
   "cell_type": "markdown",
   "id": "137304b8-e8bb-4a12-9298-ce7c69482d14",
   "metadata": {},
   "source": [
    "## Second try\n",
    "The user can change the value of \"num_samples\" in order to see that even with size similar to the total possible sample size the resulting standard deviation is big and the inteval of confidence small.\n",
    "The region of study contains 60x40 pixels where 1618 are the pixels that correspond to agriculture.\n"
   ]
  },
  {
   "cell_type": "code",
   "execution_count": 92,
   "id": "3716ecd9-de25-4ebc-84bf-3f616f48aee6",
   "metadata": {},
   "outputs": [
    {
     "name": "stdout",
     "output_type": "stream",
     "text": [
      "Sampled Mean SOC: 56.26300048828125\n",
      "Standard Deviation of Samples: 13.658178329467773\n",
      "Confidence Interval (95.0%): (55.416473380387856, 57.109527596174644)\n"
     ]
    }
   ],
   "source": [
    "import numpy as np\n",
    "import rasterio\n",
    "import random\n",
    "from scipy import stats\n",
    "\n",
    "# Load the SOC data from a TIFF file\n",
    "with rasterio.open('data/soc_data.tif') as soc_ds:\n",
    "    soc_data = soc_ds.read(1)\n",
    "\n",
    "# Load the land cover classification data from a TIFF file\n",
    "with rasterio.open('data/reclassified_land_cover.tif') as lc_ds:\n",
    "    land_cover_data = lc_ds.read(1)\n",
    "\n",
    "# Define the agriculture class value\n",
    "agriculture_class = 3\n",
    "\n",
    "# Identify the agricultural pixels\n",
    "agricultural_pixels = np.where(land_cover_data == agriculture_class)\n",
    "\n",
    "# Number of samples to spread\n",
    "num_samples = 1000\n",
    "\n",
    "# Randomly select 'num_samples' samples from the identified agricultural pixels\n",
    "selected_samples = random.sample(list(zip(agricultural_pixels[0], agricultural_pixels[1])), num_samples)\n",
    "\n",
    "# Extract SOC values for the selected samples\n",
    "soc_samples = [soc_data[sample[0], sample[1]] for sample in selected_samples]\n",
    "\n",
    "# Calculate mean and standard deviation of selected samples\n",
    "mean_soc = np.mean(soc_samples)\n",
    "std_dev_soc = np.std(soc_samples)\n",
    "\n",
    "# Compute the confidence interval for the mean using Gaussian distribution\n",
    "confidence_level = 0.95\n",
    "alpha = 1 - confidence_level\n",
    "z_value = stats.norm.ppf(1 - alpha / 2)\n",
    "margin_of_error = z_value * (std_dev_soc / np.sqrt(num_samples))\n",
    "confidence_interval = (mean_soc - margin_of_error, mean_soc + margin_of_error)\n",
    "\n",
    "print(f\"Sampled Mean SOC: {mean_soc}\")\n",
    "print(f\"Standard Deviation of Samples: {std_dev_soc}\")\n",
    "print(f\"Confidence Interval ({confidence_level*100}%): {confidence_interval}\")\n"
   ]
  },
  {
   "cell_type": "markdown",
   "id": "d8e06e58-e5f9-4a2b-adf2-7d3c9c08122e",
   "metadata": {},
   "source": [
    "## Comments of the sampling design\n",
    "\n",
    "Resolution and Detail: One possible reason for a large required sample size could be the low resolution of the data. Low-resolution data may not capture fine-grained variations in the soil organic carbon (SOC) values within agricultural regions. Increasing the study area or working with higher-resolution data may help capture more detail and reduce uncertainty.\n",
    "\n",
    "Land Cover Categories: The categorization of land cover into broad classes can impact the required sample size. The \"Agriculture\" class includes a wide range of agricultural practices and soil types, it might result in higher variability within the class. Further subcategorizing the land cover classes, might help to reduce variability and the required sample size.\n",
    "\n",
    "Sampling Design Complexity: the sampling design can be complex and is influenced by various factors that should be considered in a more detiailed study such as: topography, land use, soil type. \n"
   ]
  },
  {
   "cell_type": "code",
   "execution_count": null,
   "id": "d2a31584-1708-4462-b76b-cecd9ac75714",
   "metadata": {},
   "outputs": [],
   "source": []
  }
 ],
 "metadata": {
  "kernelspec": {
   "display_name": "Python 3 (ipykernel)",
   "language": "python",
   "name": "python3"
  },
  "language_info": {
   "codemirror_mode": {
    "name": "ipython",
    "version": 3
   },
   "file_extension": ".py",
   "mimetype": "text/x-python",
   "name": "python",
   "nbconvert_exporter": "python",
   "pygments_lexer": "ipython3",
   "version": "3.11.5"
  }
 },
 "nbformat": 4,
 "nbformat_minor": 5
}
